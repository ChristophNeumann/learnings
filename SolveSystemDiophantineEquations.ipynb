{
 "cells": [
  {
   "cell_type": "code",
   "execution_count": 6,
   "metadata": {
    "collapsed": true
   },
   "outputs": [],
   "source": [
    "import numpy as np"
   ]
  },
  {
   "cell_type": "markdown",
   "metadata": {},
   "source": [
    "# How to solve a system of Diophantine equations"
   ]
  },
  {
   "cell_type": "markdown",
   "metadata": {},
   "source": [
    "This is a practical guide that explains a method to find all solutions of a system of Diophantine equations $$Cy=c, y \\in \\mathbb{Z}^m, C \\in \\mathbb{Q}^{q\\times m}, c \\in \\mathbb{Q}^q,$$\n",
    "or to return the emptyset if none exists.\n",
    "It follows an implementation of the algorithms outlined in the Book \"Theory Of Linear And Integer Programming\"\n",
    "by Alexander Schrijver [1], and \"Integer Programming and Algorithmic Geometry of Numbers\", by Friedrich Eisenbrand [2]. "
   ]
  },
  {
   "cell_type": "markdown",
   "metadata": {},
   "source": [
    "## The Euclidean algorithm\n",
    "At the core of solving a system of Diophantine equations is the Euclidean algorithm that is implemented below. In its original version, it finds the greatest common divisor of two rational numbers $\\alpha$ and $\\beta$. The extension below also memorizes, what combination yields the greatest common divisor, that is, what combination $k_1,k_2$ solves the system $$ k_1 \\alpha + k_2 \\beta = gcd(\\alpha,\\beta),$$\n",
    "and what combination $k_{n_1}$, $k_{n_2}$ yields $$k_{n_1} \\alpha + k_{n_2} \\beta = 0$$"
   ]
  },
  {
   "cell_type": "code",
   "execution_count": 1,
   "metadata": {
    "collapsed": false
   },
   "outputs": [],
   "source": [
    "def euclidean_algorithm(coeff):\n",
    "    I = np.eye(2)\n",
    "    A = np.concatenate((np.array([coeff]),I), axis = 0).astype('int')\n",
    "#    print('Starting with')\n",
    "#    print(A)\n",
    "    alpha = A[0,0]\n",
    "    beta = A[0,1]\n",
    "    if alpha < 0:\n",
    "#        print('Mutliplying Column 1 with -1')\n",
    "        A[:,0] = -A[:,0]\n",
    "        alpha = -alpha\n",
    "#        print(A)\n",
    "    if beta <0:\n",
    "#        print('Mutliplying Column 2 with -1')\n",
    "        A[:,1] = -A[:,1]\n",
    "        beta = -beta\n",
    "#        print(A)\n",
    "    while ((alpha != 0) & (beta != 0)):\n",
    "        if alpha >= beta:\n",
    "            A[:,0] = A[:,0] - np.floor_divide(alpha,beta)*A[:,1]\n",
    "#            print(\"Reducing left column yields: \")\n",
    "#            print(A)\n",
    "        else:\n",
    "            A[:,1] = A[:,1] - np.floor_divide(beta,alpha)*A[:,0]\n",
    "#            print(\"Reducing right column yields: \")\n",
    "#            print(A)\n",
    "        alpha = A[0,0]\n",
    "        beta = A[0,1] \n",
    "    if A[0,0]==0:\n",
    "#        print('Switching Columns such that the first column is always the gcd-column')\n",
    "        b = A[:,0].copy()\n",
    "        A[:,0] = A[:,1]\n",
    "        A[:,1] = b\n",
    "#        print(A)\n",
    "    return A        "
   ]
  },
  {
   "cell_type": "markdown",
   "metadata": {},
   "source": [
    "As an example, consider the $(\\alpha,\\beta) = (18,32)$."
   ]
  },
  {
   "cell_type": "code",
   "execution_count": 93,
   "metadata": {
    "collapsed": false
   },
   "outputs": [
    {
     "name": "stdout",
     "output_type": "stream",
     "text": [
      "Starting with\n",
      "[[18 32]\n",
      " [ 1  0]\n",
      " [ 0  1]]\n",
      "Reducing right column yields: \n",
      "[[18 14]\n",
      " [ 1 -1]\n",
      " [ 0  1]]\n",
      "Reducing left column yields: \n",
      "[[ 4 14]\n",
      " [ 2 -1]\n",
      " [-1  1]]\n",
      "Reducing right column yields: \n",
      "[[ 4  2]\n",
      " [ 2 -7]\n",
      " [-1  4]]\n",
      "Reducing left column yields: \n",
      "[[ 0  2]\n",
      " [16 -7]\n",
      " [-9  4]]\n",
      "Switching Columns such that the first column is always the gcd-column\n",
      "[[ 2  0]\n",
      " [-7 16]\n",
      " [ 4 -9]]\n"
     ]
    },
    {
     "data": {
      "text/plain": [
       "array([[ 2,  0],\n",
       "       [-7, 16],\n",
       "       [ 4, -9]])"
      ]
     },
     "execution_count": 93,
     "metadata": {},
     "output_type": "execute_result"
    }
   ],
   "source": [
    "result = euclidean_algorithm([18,32])\n",
    "result"
   ]
  },
  {
   "cell_type": "markdown",
   "metadata": {},
   "source": [
    "The returned matrix from the above implemented Euclidean algorithm contains all the information we need for finding all solutions to a single diophantine equation of two variables. The nonzero entry of the first row yields the gcd (thus we call the corresponding column gcd-column). The bottom two entries of the gcd-column contain $(k_1,k_2)$, the linear integer combination that yields the gcd. The bottom two entries of the zero-column (the column corresponding to the zero entry in the first row) corresponds to $\\eta$, the linear integer combination that yields zero. \n",
    "\n",
    "In our example, we immediately see that $2$ is the gcd, that the vector $(-7,4)$ yields the gcd and that any multiple of $(-16,9)$ yields $0$. "
   ]
  },
  {
   "cell_type": "markdown",
   "metadata": {},
   "source": [
    "## Solving a linear diophantine equation with two variables"
   ]
  },
  {
   "cell_type": "markdown",
   "metadata": {},
   "source": [
    "Next, we will use the Euclidean algorithm to solve a linear diophantine equation.\n",
    "\n",
    "The system $\\alpha y_1 + \\beta y_2 = b$ has a solution, if and only if $\\frac{b}{gcd(\\alpha,\\beta)} \\in \\mathbb{Z}$. Due to the relationship $\\alpha k_1 + \\beta k_2 = gcd(\\alpha,\\beta)$, we may set $(\\bar{y}_1,\\bar{y}_2) := \\frac{b}{gcd(\\alpha,\\beta)} (k_1,k_2)$, $\\eta := (k_{n_1},k_{n_2})$, and define the set of solutions as\n",
    "\n",
    "$$ \\{y | \\hspace{0.1cm} \\alpha y_1 + \\beta y_2 = b \\} = \\{y | \\hspace{0.1cm} y = \\bar y + k \\eta, k \\in \\mathbb{Z}\\}.$$ \n",
    "\n",
    "This algorithm is implemented below"
   ]
  },
  {
   "cell_type": "code",
   "execution_count": 2,
   "metadata": {
    "collapsed": true
   },
   "outputs": [],
   "source": [
    "def solve_diophantine(coeff,b):\n",
    "    A = euclidean_algorithm(coeff)\n",
    "    gcd_column = np.argmax(result[0,:])\n",
    "    zero_column = np.argmin(result[0,:])\n",
    "    gcd = A[0,gcd_column]    \n",
    "    if (b % gcd == 0):\n",
    "        print('System is solvable')\n",
    "        y_0 = (b / gcd) * A[1:,gcd_column]\n",
    "        print('y0 = ' + str(y_0))\n",
    "        eta = A[1:,zero_column]\n",
    "        print('eta = ' + str(eta))\n",
    "        return y_0,eta\n",
    "    else:\n",
    "        print('System has no sultion')\n",
    "        return []    "
   ]
  },
  {
   "cell_type": "markdown",
   "metadata": {},
   "source": [
    "As an example, let us solve the diophantine equation $18 y_1 + 32 y_2 = 6$"
   ]
  },
  {
   "cell_type": "code",
   "execution_count": 95,
   "metadata": {
    "collapsed": false
   },
   "outputs": [
    {
     "name": "stdout",
     "output_type": "stream",
     "text": [
      "Starting with\n",
      "[[18 32]\n",
      " [ 1  0]\n",
      " [ 0  1]]\n",
      "Reducing right column yields: \n",
      "[[18 14]\n",
      " [ 1 -1]\n",
      " [ 0  1]]\n",
      "Reducing left column yields: \n",
      "[[ 4 14]\n",
      " [ 2 -1]\n",
      " [-1  1]]\n",
      "Reducing right column yields: \n",
      "[[ 4  2]\n",
      " [ 2 -7]\n",
      " [-1  4]]\n",
      "Reducing left column yields: \n",
      "[[ 0  2]\n",
      " [16 -7]\n",
      " [-9  4]]\n",
      "Switching Columns such that the first column is always the gcd-column\n",
      "[[ 2  0]\n",
      " [-7 16]\n",
      " [ 4 -9]]\n",
      "System is solvable\n",
      "y0 = [-21.  12.]\n",
      "eta = [16 -9]\n"
     ]
    },
    {
     "data": {
      "text/plain": [
       "(array([-21.,  12.]), array([16, -9]))"
      ]
     },
     "execution_count": 95,
     "metadata": {},
     "output_type": "execute_result"
    }
   ],
   "source": [
    "a = np.array([18,32])\n",
    "b = 6\n",
    "solve_diophantine(a,b)"
   ]
  },
  {
   "cell_type": "markdown",
   "metadata": {},
   "source": [
    "Thus, all solutions to the system are defined by $y = (-21,12)^\\top + k * (16,-9)^\\top, k \\in \\mathbb{Z}$.\n",
    "\n",
    "If, however, we set $b$ to any number that is not dividable by gcd($\\alpha$,$\\beta$), the set of solutions is empty, as shown below."
   ]
  },
  {
   "cell_type": "code",
   "execution_count": 28,
   "metadata": {
    "collapsed": false
   },
   "outputs": [
    {
     "name": "stdout",
     "output_type": "stream",
     "text": [
      "Starting with\n",
      "[[18 32]\n",
      " [ 1  0]\n",
      " [ 0  1]]\n",
      "Reducing right column yields: \n",
      "[[18 14]\n",
      " [ 1 -1]\n",
      " [ 0  1]]\n",
      "Reducing left column yields: \n",
      "[[ 4 14]\n",
      " [ 2 -1]\n",
      " [-1  1]]\n",
      "Reducing right column yields: \n",
      "[[ 4  2]\n",
      " [ 2 -7]\n",
      " [-1  4]]\n",
      "Reducing left column yields: \n",
      "[[ 0  2]\n",
      " [16 -7]\n",
      " [-9  4]]\n",
      "Switching Columns\n",
      "[[ 2  0]\n",
      " [-7 16]\n",
      " [ 4 -9]]\n",
      "System has no sultion\n"
     ]
    },
    {
     "data": {
      "text/plain": [
       "[]"
      ]
     },
     "execution_count": 28,
     "metadata": {},
     "output_type": "execute_result"
    }
   ],
   "source": [
    "b = 7\n",
    "solve_diophantine(a,b)"
   ]
  },
  {
   "cell_type": "markdown",
   "metadata": {},
   "source": [
    "## Solving a system of linear diophantine equations"
   ]
  },
  {
   "cell_type": "markdown",
   "metadata": {},
   "source": [
    "Next, we examine a way to find all solutions to a system of $q$ linear diophantine equations and $m$ variables, that is, to find all solutions of\n",
    "$$Cy=c, y \\in \\mathbb{Z}^m, C \\in \\mathbb{Q}^{q\\times m}, c \\in \\mathbb{Q}^q,$$\n",
    "or to return the emptyset if none exists. We assume that $C$ has full row rank"
   ]
  },
  {
   "cell_type": "markdown",
   "metadata": {},
   "source": [
    "A Hermite normal form $H$ of a matrix $C$ has the form $$H \\in \\mathbb{Z}^{q\\times m} = [B,0], B\\in\\mathbb{Q}^{q\\times q},$$ where $B$ is a lower triangular, nonnegative matrix in which each row has a unique maximum entry which is located at the main diagonal of $B$. Due to the Hermite normal form Theorem, we know that every rational matrix of full row rank can be brought into Hermite normal form by a series of elementary (unimodular) column operations (exchanging two columns, multiplying a column with -1, adding a multiple of one column to another). These elementary column operations are \"memorized\" in a matrix $U$, such that we have $AU=H$.\n",
    "\n",
    "If $B^{-1}b$ is not integral, the System does not have a soltuion (cf. [1,Corollary 5.3b]). Otherwise,\n",
    "with the matrices $H$ and $U$ at hand, we may compute one solution to the system $Cy=c$ as \n",
    "$$ y_0 = U \\left(\\begin{array}{c}\n",
    "B^{-1}b \\\\\n",
    "0_{[m-q,1]}\n",
    "\\end{array} \\right),$$\n",
    "because we have $$ A y_0 = A U \\left(\\begin{array}{c}\n",
    "B^{-1}b \\\\\n",
    "0_{[m-q,1]}\n",
    "\\end{array} \\right) = [B,0] \\left(\\begin{array}{c}\n",
    "B^{-1}b \\\\\n",
    "0_{[m-q,1]}\n",
    "\\end{array} \\right) = b. $$\n",
    "\n",
    "\n",
    "The kernel of $C$ may be determined as $$V = U \\left(\\begin{array}{c}\n",
    "0_{[q, m-q]} \\\\\n",
    "I_{[m-q,m-q]}\n",
    "\\end{array} \\right),$$\n",
    "\n",
    "because $$ AV = A U \\left(\\begin{array}{c}\n",
    "0_{[q, m-q]} \\\\\n",
    "I_{[m-q,m-q]}\n",
    "\\end{array} \\right) = [B,0] \\left(\\begin{array}{c}\n",
    "0_{[q, m-q]} \\\\\n",
    "I_{[m-q,m-q]}\n",
    "\\end{array} \\right) = 0$$\n"
   ]
  },
  {
   "cell_type": "markdown",
   "metadata": {},
   "source": [
    "Hence, the challenge of solving the system $Cy=c$ boils down to finding the Hermite normal form $H$ and $U$. Below, we implement [2,Algorithm 14.1], which computs the matrices $H$ and $U$ using Euclids algorithm implemented above as a subroutine. We start with $H:=C$ and, at each iteration, update $H$ and $U$ as $$H = H M, \\text{ and } U = U M,$$ where $M$ is the matrix that corresponds to the unimodular column operations that are determined by using Euclids Algorithm."
   ]
  },
  {
   "cell_type": "code",
   "execution_count": 26,
   "metadata": {
    "collapsed": false
   },
   "outputs": [],
   "source": [
    "def hermite_normal_form(C):\n",
    "    print('Bringing matrix C: ')\n",
    "    print(C)\n",
    "    print('To Hermite normal form H \\n')\n",
    "    print('Starting with H:=C and U:=I')\n",
    "    q,m = np.shape(C)\n",
    "    U = np.eye(m)\n",
    "    H = C.copy()\n",
    "    for i in range(0,q):\n",
    "        print('\\nCreating zeros right to the diagonal')\n",
    "        for j in range(i+1,m):\n",
    "            if H[i,j] != 0:\n",
    "                print(\"Working with row \"+ str(i) + \" and columns \" + str(i) + \",\" + str(j))\n",
    "                udpate_indices = np.array([i,j])\n",
    "                print('Euclidean Algorithm yields')\n",
    "                res_eucl = euclidean_algorithm([H[i,i],H[i,j]])\n",
    "                print(res_eucl)\n",
    "                ggt = res_eucl[0,0]\n",
    "                \n",
    "                #--------------------------------------------------#\n",
    "                # Only for printing purposes\n",
    "                update_visualization = np.eye(m)\n",
    "                update_visualization[i,i] = res_eucl[1,0]\n",
    "                update_visualization[j,i] = res_eucl[2,0]\n",
    "                update_visualization[i,j] = res_eucl[1,1]\n",
    "                update_visualization[j,j] = res_eucl[2,1]\n",
    "                print('M corresponds to')\n",
    "                print(update_visualization)\n",
    "                #--------------------------------------------------#\n",
    "                \n",
    "                unimodular_updateH = np.dot(H[:,udpate_indices], res_eucl[1:,:])\n",
    "                unimodular_updateU = np.dot(U[:,udpate_indices], res_eucl[1:,:])\n",
    "                H[:,udpate_indices] = unimodular_updateH\n",
    "                U[:,udpate_indices] = unimodular_updateU\n",
    "                print('Updated H is:')\n",
    "                print(H)\n",
    "                print('Updated U is:')\n",
    "                print(U)\n",
    "\n",
    "        print('\\nReducing entries left to the diagonal')    \n",
    "        for j in range(0,i):\n",
    "            update_indices = np.array([j,i])    # Note that j<i and thus the order [j,i]\n",
    "            q = np.floor_divide(H[i,j],H[i,i])\n",
    "            print('Reducing element left of the diagonal with ' + str(q))\n",
    "            reduction_matrix = np.array([[1,0],[-q,1]])\n",
    "            print(reduction_matrix)\n",
    "            print(H[:,update_indices])\n",
    "            unimodular_reduction_updateH = np.dot(H[:,update_indices],reduction_matrix)\n",
    "            unimodular_reduction_updateU = np.dot(U[:,update_indices],reduction_matrix)\n",
    "            H[:,update_indices] = unimodular_reduction_updateH\n",
    "            U[:,update_indices] = unimodular_reduction_updateU\n",
    "            print(H)\n",
    "            print(U)\n",
    "    print('\\n\\nHermite normal form of C =')\n",
    "    print(C)\n",
    "    print('is H=')\n",
    "    print(H)\n",
    "    print('We have CU=H, and U=')\n",
    "    print(U)\n",
    "    return H,U"
   ]
  },
  {
   "cell_type": "code",
   "execution_count": 4,
   "metadata": {
    "collapsed": false
   },
   "outputs": [],
   "source": [
    "def hermite_normal_form(C):\n",
    "    q,m = np.shape(C)\n",
    "    U = np.eye(m)\n",
    "    H = C.copy()\n",
    "    for i in range(0,q):\n",
    "        for j in range(i+1,m):\n",
    "            if H[i,j] != 0:\n",
    "                udpate_indices = np.array([i,j])\n",
    "                res_eucl = euclidean_algorithm([H[i,i],H[i,j]])\n",
    "                ggt = res_eucl[0,0]              \n",
    "                unimodular_updateH = np.dot(H[:,udpate_indices], res_eucl[1:,:])\n",
    "                unimodular_updateU = np.dot(U[:,udpate_indices], res_eucl[1:,:])\n",
    "                H[:,udpate_indices] = unimodular_updateH\n",
    "                U[:,udpate_indices] = unimodular_updateU\n",
    "        for j in range(0,i):\n",
    "            update_indices = np.array([j,i])    # Note that j<i and thus the order [j,i]\n",
    "            q = np.floor_divide(H[i,j],H[i,i])\n",
    "            reduction_matrix = np.array([[1,0],[-q,1]])\n",
    "            unimodular_reduction_updateH = np.dot(H[:,update_indices],reduction_matrix)\n",
    "            unimodular_reduction_updateU = np.dot(U[:,update_indices],reduction_matrix)\n",
    "            H[:,update_indices] = unimodular_reduction_updateH\n",
    "            U[:,update_indices] = unimodular_reduction_updateU\n",
    "    return H,U"
   ]
  },
  {
   "cell_type": "markdown",
   "metadata": {},
   "source": [
    "We will use the matrix \n",
    "$$ C = \\left(\\begin{matrix}\n",
    "2 & 3 & 4 & -3   \\\\ \n",
    "-2 & 4 & 6 & 7 \\\\\n",
    "\\end{matrix}\\right), \\text{ and } c = \\left(\\begin{array}{c}\n",
    "9\\\\\n",
    "2\n",
    "\\end{array} \\right) $$ as an example. Below, we print each step of the algorithm."
   ]
  },
  {
   "cell_type": "code",
   "execution_count": 22,
   "metadata": {
    "collapsed": false
   },
   "outputs": [],
   "source": [
    "C = np.array([[2,3,4,-3],[-2,4,6,7]])\n",
    "c = np.array([9,2])"
   ]
  },
  {
   "cell_type": "code",
   "execution_count": 23,
   "metadata": {
    "collapsed": false
   },
   "outputs": [
    {
     "data": {
      "text/plain": [
       "array([[ 2, -2],\n",
       "       [ 3,  4],\n",
       "       [ 4,  6],\n",
       "       [-3,  7]])"
      ]
     },
     "execution_count": 23,
     "metadata": {},
     "output_type": "execute_result"
    }
   ],
   "source": [
    "C.transpose()"
   ]
  },
  {
   "cell_type": "code",
   "execution_count": 30,
   "metadata": {
    "collapsed": false
   },
   "outputs": [],
   "source": [
    "C = np.random.randint(-2,2, size=(10, 100))"
   ]
  },
  {
   "cell_type": "code",
   "execution_count": 13,
   "metadata": {
    "collapsed": false
   },
   "outputs": [],
   "source": [
    "H,U = hermite_normal_form(C)"
   ]
  },
  {
   "cell_type": "code",
   "execution_count": 14,
   "metadata": {
    "collapsed": false
   },
   "outputs": [
    {
     "data": {
      "text/plain": [
       "array([[  17.,   -3.,   -1.,    6.],\n",
       "       [-305.,   51.,   10., -106.],\n",
       "       [ 216.,  -36.,   -7.,   75.],\n",
       "       [  -6.,    1.,    0.,   -2.]])"
      ]
     },
     "execution_count": 14,
     "metadata": {},
     "output_type": "execute_result"
    }
   ],
   "source": [
    "U"
   ]
  },
  {
   "cell_type": "code",
   "execution_count": 19,
   "metadata": {
    "collapsed": true
   },
   "outputs": [],
   "source": [
    "U2  = np.array([[5,21,19,33],[-1,-5,-6,-8],[0,0,1,0],[2,9,8,14]])"
   ]
  },
  {
   "cell_type": "code",
   "execution_count": 15,
   "metadata": {
    "collapsed": false
   },
   "outputs": [
    {
     "data": {
      "text/plain": [
       "array([[1, 0, 0, 0],\n",
       "       [0, 1, 0, 0]])"
      ]
     },
     "execution_count": 15,
     "metadata": {},
     "output_type": "execute_result"
    }
   ],
   "source": [
    "H"
   ]
  },
  {
   "cell_type": "markdown",
   "metadata": {},
   "source": [
    "The next function calculates all solutions to a system of Diophantine equations. It takes a Herite normal form $H$ of $C$, the corresponding unimodular matrix $U$ with $CU=H$, and the right hand side vector $c$ as an input. "
   ]
  },
  {
   "cell_type": "code",
   "execution_count": 20,
   "metadata": {
    "collapsed": true
   },
   "outputs": [],
   "source": [
    "def get_diophantine_solutions(H,U,c):\n",
    "    q,m = H.shape\n",
    "    B = H[:,0:H.shape[0]]\n",
    "    Binv = np.linalg.inv(B)\n",
    "    sol = np.dot(Binv,c)\n",
    "    if(all(sol- np.floor(sol) == 0)):\n",
    "        x_0 = np.append(sol,np.zeros(m-q))\n",
    "        V_0 = np.concatenate([np.zeros([q,m-q]),np.eye(m-q)], axis = 0)\n",
    "        V = np.dot(U,V_0)\n",
    "        x = np.dot(U,x_0)\n",
    "    else:\n",
    "        x = []\n",
    "        V = []\n",
    "    return x,V"
   ]
  },
  {
   "cell_type": "markdown",
   "metadata": {},
   "source": [
    "All solutions to our example thus correspond to"
   ]
  },
  {
   "cell_type": "code",
   "execution_count": 28,
   "metadata": {
    "collapsed": false
   },
   "outputs": [
    {
     "name": "stdout",
     "output_type": "stream",
     "text": [
      "x_0 =\n",
      "[  147. -2643.  1872.   -52.]\n",
      "V =\n",
      "[[  -1.    6.]\n",
      " [  10. -106.]\n",
      " [  -7.   75.]\n",
      " [   0.   -2.]]\n"
     ]
    }
   ],
   "source": [
    "x,V = get_diophantine_solutions(H,U,c)\n",
    "print('x_0 =')\n",
    "print(x)\n",
    "print('V =')\n",
    "print(V)"
   ]
  },
  {
   "cell_type": "code",
   "execution_count": 30,
   "metadata": {
    "collapsed": false
   },
   "outputs": [
    {
     "name": "stdout",
     "output_type": "stream",
     "text": [
      "x_0 =\n",
      "[ 87. -19.   0.  36.]\n",
      "V =\n",
      "[[ 19.  33.]\n",
      " [ -6.  -8.]\n",
      " [  1.   0.]\n",
      " [  8.  14.]]\n"
     ]
    }
   ],
   "source": [
    "x,V = get_diophantine_solutions(H,U2,c)\n",
    "print('x_0 =')\n",
    "print(x)\n",
    "print('V =')\n",
    "print(V)"
   ]
  },
  {
   "cell_type": "markdown",
   "metadata": {},
   "source": [
    "Indeed, as we demonstrate below, $x$ solves the system $Cx = c$, and the columns of $V$ span $\\{y| Cy=0\\}$. "
   ]
  },
  {
   "cell_type": "code",
   "execution_count": 31,
   "metadata": {
    "collapsed": false
   },
   "outputs": [
    {
     "name": "stdout",
     "output_type": "stream",
     "text": [
      "[ 9.  2.]\n",
      "[[ 0.  0.]\n",
      " [ 0.  0.]]\n"
     ]
    }
   ],
   "source": [
    "print(np.dot(C,x))\n",
    "print(np.dot(C,V))"
   ]
  },
  {
   "cell_type": "markdown",
   "metadata": {},
   "source": [
    "## Literature\n",
    "[1] Theory Of Linear And Integer Programming, Alexander Schrijver, \n",
    "\n",
    "[2] Integer Programming and Algorithmic Geometry of Numbers, Friedrich Eisenbrand"
   ]
  }
 ],
 "metadata": {
  "kernelspec": {
   "display_name": "Python 3",
   "language": "python",
   "name": "python3"
  },
  "language_info": {
   "codemirror_mode": {
    "name": "ipython",
    "version": 3
   },
   "file_extension": ".py",
   "mimetype": "text/x-python",
   "name": "python",
   "nbconvert_exporter": "python",
   "pygments_lexer": "ipython3",
   "version": "3.5.0"
  }
 },
 "nbformat": 4,
 "nbformat_minor": 2
}
